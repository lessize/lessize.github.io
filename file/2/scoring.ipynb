{
 "cells": [
  {
   "cell_type": "markdown",
   "id": "31a64bc0",
   "metadata": {},
   "source": [
    "## 감성사전 참조해서 감성 점수 반영하기"
   ]
  },
  {
   "cell_type": "code",
   "execution_count": 2,
   "id": "9b022398",
   "metadata": {},
   "outputs": [],
   "source": [
    "import pandas as pd\n",
    "import numpy as np"
   ]
  },
  {
   "cell_type": "code",
   "execution_count": 3,
   "id": "0368b2fd",
   "metadata": {},
   "outputs": [],
   "source": [
    "from tqdm import tqdm\n",
    "tqdm.pandas()"
   ]
  },
  {
   "cell_type": "code",
   "execution_count": 4,
   "id": "dfd2eca4",
   "metadata": {},
   "outputs": [],
   "source": [
    "# 리뷰 파일\n",
    "df_1t = pd.read_csv('review_mountain_stem.csv', encoding='utf-8')"
   ]
  },
  {
   "cell_type": "code",
   "execution_count": 12,
   "id": "6d4341cf",
   "metadata": {},
   "outputs": [
    {
     "data": {
      "text/plain": [
       "Index(['label', 'review', 'review2', 'adj', 'verb', 'noun', 'exclamation',\n",
       "       'adj_stem', 'verb_stem'],\n",
       "      dtype='object')"
      ]
     },
     "execution_count": 12,
     "metadata": {},
     "output_type": "execute_result"
    }
   ],
   "source": [
    "df_1t.columns"
   ]
  },
  {
   "cell_type": "code",
   "execution_count": 5,
   "id": "67e94e13",
   "metadata": {},
   "outputs": [],
   "source": [
    "# 감성사전\n",
    "df_adj_sentiment_1t =  pd.read_csv('sentimental_1t_adj.csv', encoding='cp949')"
   ]
  },
  {
   "cell_type": "code",
   "execution_count": 6,
   "id": "1fdba039",
   "metadata": {},
   "outputs": [
    {
     "data": {
      "text/plain": [
       "Index(['단어', '점수'], dtype='object')"
      ]
     },
     "execution_count": 6,
     "metadata": {},
     "output_type": "execute_result"
    }
   ],
   "source": [
    "df_adj_sentiment_1t.columns"
   ]
  },
  {
   "cell_type": "code",
   "execution_count": 7,
   "id": "fd4fef9f",
   "metadata": {},
   "outputs": [],
   "source": [
    "# 감성 점수 계산 함수\n",
    "def calculate_sentiment_score(text):\n",
    "    if pd.isna(text):\n",
    "        return 0\n",
    "    # 감성사전을 사전 형태로 변환\n",
    "    score_dict = dict(zip(df_adj_sentiment_1t['단어'], df_adj_sentiment_1t['점수']))\n",
    "    # 텍스트를 단어로 분리\n",
    "    words = text.split()\n",
    "    # 각 단어의 점수를 누적하여 합산\n",
    "    score = sum(score_dict.get(word, 0) for word in words)\n",
    "    \n",
    "    # score가 NaN인 경우 0으로 반환\n",
    "    if np.isnan(score):\n",
    "        return 0\n",
    "    else:\n",
    "        return score\n",
    "    "
   ]
  },
  {
   "cell_type": "code",
   "execution_count": null,
   "id": "a7fe23bc",
   "metadata": {},
   "outputs": [],
   "source": []
  },
  {
   "cell_type": "code",
   "execution_count": 8,
   "id": "3df7d818",
   "metadata": {},
   "outputs": [
    {
     "ename": "NameError",
     "evalue": "name 'df_2t' is not defined",
     "output_type": "error",
     "traceback": [
      "\u001b[1;31m---------------------------------------------------------------------------\u001b[0m",
      "\u001b[1;31mNameError\u001b[0m                                 Traceback (most recent call last)",
      "Cell \u001b[1;32mIn[8], line 1\u001b[0m\n\u001b[1;32m----> 1\u001b[0m calculate_sentiment_score(df_2t\u001b[38;5;241m.\u001b[39mloc[\u001b[38;5;241m2\u001b[39m,\u001b[38;5;124m'\u001b[39m\u001b[38;5;124madj_stem\u001b[39m\u001b[38;5;124m'\u001b[39m])\n",
      "\u001b[1;31mNameError\u001b[0m: name 'df_2t' is not defined"
     ]
    }
   ],
   "source": [
    "calculate_sentiment_score(df_2t.loc[2,'adj_stem'])"
   ]
  },
  {
   "cell_type": "markdown",
   "id": "fdae9be4",
   "metadata": {},
   "source": [
    "#### 각 텍스트의 감성 점수를 계산하여 새로운 열에 저장"
   ]
  },
  {
   "cell_type": "code",
   "execution_count": 9,
   "id": "1f649d59",
   "metadata": {},
   "outputs": [
    {
     "name": "stderr",
     "output_type": "stream",
     "text": [
      "100%|██████████████████████████████████████████████████████████████████████████| 36409/36409 [00:16<00:00, 2206.73it/s]\n",
      "100%|██████████████████████████████████████████████████████████████████████████| 36409/36409 [00:15<00:00, 2298.82it/s]\n"
     ]
    }
   ],
   "source": [
    "df_1t['adj_score'] = df_1t['adj_stem'].progress_map(calculate_sentiment_score)\n",
    "df_1t['verb_score'] = df_1t['verb_stem'].progress_map(calculate_sentiment_score)\n",
    "# df_1t['exclamation_score'] = df_1t['exclamation_stem'].progress_map(calculate_sentiment_score)"
   ]
  },
  {
   "cell_type": "code",
   "execution_count": 10,
   "id": "a9d70691",
   "metadata": {},
   "outputs": [],
   "source": [
    "df_1t['score'] = df_1t['adj_score'] + df_1t['verb_score'] \n",
    "# + df_1t['exclamation_score']"
   ]
  },
  {
   "cell_type": "code",
   "execution_count": 11,
   "id": "1a7a72fd",
   "metadata": {},
   "outputs": [],
   "source": [
    "df_1t.to_csv('review_mountain_stem_score.csv',index=False)"
   ]
  },
  {
   "cell_type": "code",
   "execution_count": 15,
   "id": "ad3acd1e",
   "metadata": {},
   "outputs": [
    {
     "data": {
      "text/html": [
       "<div>\n",
       "<style scoped>\n",
       "    .dataframe tbody tr th:only-of-type {\n",
       "        vertical-align: middle;\n",
       "    }\n",
       "\n",
       "    .dataframe tbody tr th {\n",
       "        vertical-align: top;\n",
       "    }\n",
       "\n",
       "    .dataframe thead th {\n",
       "        text-align: right;\n",
       "    }\n",
       "</style>\n",
       "<table border=\"1\" class=\"dataframe\">\n",
       "  <thead>\n",
       "    <tr style=\"text-align: right;\">\n",
       "      <th></th>\n",
       "      <th>label</th>\n",
       "      <th>review</th>\n",
       "      <th>review2</th>\n",
       "      <th>adj</th>\n",
       "      <th>verb</th>\n",
       "      <th>noun</th>\n",
       "      <th>exclamation</th>\n",
       "      <th>adj_stem</th>\n",
       "      <th>verb_stem</th>\n",
       "      <th>adj_score</th>\n",
       "      <th>verb_score</th>\n",
       "      <th>score</th>\n",
       "    </tr>\n",
       "  </thead>\n",
       "  <tbody>\n",
       "    <tr>\n",
       "      <th>1</th>\n",
       "      <td>가리산</td>\n",
       "      <td>[ 홍천 가리산 레포츠파크 : 강원 홍천군 두촌 가리산길 426이용요금 : - 어드...</td>\n",
       "      <td>홍천 가리산 레포츠파크 강원 홍천군 두촌 가리산길 이용요금 어드벤처 원 서바이벌 ...</td>\n",
       "      <td>없어요 멀지 새로 당연히 흔한 흔한 솔직히 없을 같습니다 착할 있었어요 있어요 흰 ...</td>\n",
       "      <td>이었죠 임는 그리 않은 않았고 할 다녀왔습니다 된 갔다가 세워져있던 되었어요 왔다고...</td>\n",
       "      <td>홍천 가리산 레 포츠 파크 강원 홍천군 촌 가리산 길 이용 요금 어드벤처 원 서바이...</td>\n",
       "      <td>하</td>\n",
       "      <td>없다 멀다 새롭다 당연하다 흔하다 흔하다 솔직하다 없다 같다 착하다 있다 있다 희다...</td>\n",
       "      <td>이다 이다 그리다 않다 않다 하다 다녀오다 되다 가다 세워지다 되어다 오다 보다 오...</td>\n",
       "      <td>28</td>\n",
       "      <td>-2</td>\n",
       "      <td>26</td>\n",
       "    </tr>\n",
       "    <tr>\n",
       "      <th>10</th>\n",
       "      <td>가리산</td>\n",
       "      <td>[홍천 가리산 등산코스탕후루처럼 반짝, 설산 풍경!ⓦ 산타는 초딩 여이등산: 202...</td>\n",
       "      <td>홍천 가리산 등산코스탕후루처럼 반짝 설산 풍경 산타는 초딩 여이등산 추 에 겨울산에...</td>\n",
       "      <td>있으서 무사히 야하니 많은 있을까 좋아 좋아 하얀 힘들었기에 없죠 가볍게 없지만 있...</td>\n",
       "      <td>여이 할 다녀왔는데요 이어 타는 할게요 걸어 올라와서 는 걸어오 오는데 지야 돼요 ...</td>\n",
       "      <td>홍천 가리산 등산 코스 탕후루 반짝 설산 풍경 산타 초딩 등산 추 겨울 산 대한 두...</td>\n",
       "      <td>NaN</td>\n",
       "      <td>있다 무사하다 야하다 많다 있다 좋다 좋다 하얗다 힘들다 없다 가볍다 없다 있다 하...</td>\n",
       "      <td>이다 하다 다녀오다 이다 타다 하다 걸다 올라오다 늘다 걸어오다 오다 지다 돼다 하...</td>\n",
       "      <td>25</td>\n",
       "      <td>0</td>\n",
       "      <td>25</td>\n",
       "    </tr>\n",
       "    <tr>\n",
       "      <th>30</th>\n",
       "      <td>가리산</td>\n",
       "      <td>[웬만해서는 주말에는 사람들이 몰리는 곳엔 가지 않는다.요즘같이 단풍철에는 더욱더 ...</td>\n",
       "      <td>웬만해서는 주말에는 사람들이 몰리는 곳엔 가지 않는다요즘같이 단풍철에는 더욱더 그렇...</td>\n",
       "      <td>웬만해서는 그렇다 같아 짧은 있게 있지 있었는데 그랬다 말라 같았다 좋겠다 좋아요 ...</td>\n",
       "      <td>몰리는 않는다 늦어질 섰다 긴 다녀올 가고 오는 걸리는 드는 늦긴 했어 않을까 버린...</td>\n",
       "      <td>주말 사람 곳 가지 요즘 단풍 철 더욱더 무 것 임 불구 느긋 가리산 코스 간 정이...</td>\n",
       "      <td>NaN</td>\n",
       "      <td>웬만하다 그렇다 같다 짧다 있다 있다 있다 그렇다 말르다 같다 좋다 좋다 그렇다 짧...</td>\n",
       "      <td>몰리다 않다 늦어지다 서다 기다 다녀오다 가다 오다 걸리다 들다 늦다 하다 않다 버...</td>\n",
       "      <td>10</td>\n",
       "      <td>-2</td>\n",
       "      <td>8</td>\n",
       "    </tr>\n",
       "    <tr>\n",
       "      <th>61</th>\n",
       "      <td>가리산</td>\n",
       "      <td>[안녕요? 홍대리.  이색스포츠 즐기고잊지 못할 추억까지 남길 수  곳!!가리산레포...</td>\n",
       "      <td>안녕요 홍대리 이색스포츠 즐기고잊지 못할 추억까지 남길 수 곳가리산레포츠파크에홍대리...</td>\n",
       "      <td>자세한 있답니다 아닙니다 반가운 멋지게 있기에 익숙한 있을 같은 있었어요 있었는데요...</td>\n",
       "      <td>즐기고 잊지 할 남길 다녀와 봤는데요 해보죠 되기 가 났다 가르는 즐겨 즐겨 봤는데...</td>\n",
       "      <td>안녕 홍대 리 이색 스포츠 추억 수 곳 가리산 레 포츠 파크 홍대 리가 내용 확인 ...</td>\n",
       "      <td>흠 흠</td>\n",
       "      <td>자세하다 있다 아니다 반갑다 멋지다 있다 익숙하다 있다 같다 있다 있다 재미있다 아...</td>\n",
       "      <td>즐기다 잊다 하다 남다 다녀오다 보다 해보다 되다 가다 나다 가르다 즐기다 즐기다 ...</td>\n",
       "      <td>12</td>\n",
       "      <td>1</td>\n",
       "      <td>13</td>\n",
       "    </tr>\n",
       "    <tr>\n",
       "      <th>62</th>\n",
       "      <td>가리산</td>\n",
       "      <td>[높이 1051m의 홍천 가리산은 자연휴양림 답게 산책 코스가 잘  있고, 정상까지...</td>\n",
       "      <td>높이 의 홍천 가리산은 자연휴양림 답게 산책 코스가 잘 있고 정상까지 능선으로 편 ...</td>\n",
       "      <td>있고 있으 아니기 있어요 좋은 짜릿함을 있어서 재미있었어요 아니니 헷갈리지 아니에요...</td>\n",
       "      <td>잘 오를 걷는 느낄 오르기 하지요 앞두고 타는듯이 느낄 봐주세요 가 쉬는 빼고 합수...</td>\n",
       "      <td>높이 의 홍천 가리산 자연휴양림 답 산책 코스 정상 능선 편 수 단조 주변 경치 보...</td>\n",
       "      <td>야 하 하 야</td>\n",
       "      <td>있다 있다 아니다 있다 좋다 짜릿하다 있다 재미있다 아니다 헷갈리다 아니다 쉽다 착...</td>\n",
       "      <td>자다 오르다 걷다 느끼다 오르다 하다 앞두다 타다 느끼다 보다 가다 쉬다 빼다 하다...</td>\n",
       "      <td>50</td>\n",
       "      <td>-2</td>\n",
       "      <td>48</td>\n",
       "    </tr>\n",
       "    <tr>\n",
       "      <th>...</th>\n",
       "      <td>...</td>\n",
       "      <td>...</td>\n",
       "      <td>...</td>\n",
       "      <td>...</td>\n",
       "      <td>...</td>\n",
       "      <td>...</td>\n",
       "      <td>...</td>\n",
       "      <td>...</td>\n",
       "      <td>...</td>\n",
       "      <td>...</td>\n",
       "      <td>...</td>\n",
       "      <td>...</td>\n",
       "    </tr>\n",
       "    <tr>\n",
       "      <th>36070</th>\n",
       "      <td>황장산</td>\n",
       "      <td>[이번 산행은 락산 한바퀴 돌려고 했는데 미세먼지가 심해 하늘 땅 뿌옇게 보. 예보...</td>\n",
       "      <td>이번 산행은 락산 한바퀴 돌려고 했는데 미세먼지가 심해 하늘 땅 뿌옇게 보 예보에서...</td>\n",
       "      <td>뿌옇게 좋지 작은 뿌옇게 뿌연 있어요 있어요 멀지 있어 작은 가볍게 맑아졌어요 길게...</td>\n",
       "      <td>돌려고 했는데 줄어든다 했는데 가다 보니 보이네요 않을테니 걷는 올라 까 보니 잘 ...</td>\n",
       "      <td>이번 산행 락산 바퀴 미세먼지 심해 하늘 땅 보 예보 오전 미세먼지 질 기마 안 망...</td>\n",
       "      <td>아 하</td>\n",
       "      <td>뿌옇다 좋다 작다 뿌옇다 뿌옇다 있다 있다 멀다 있다 작다 가볍다 맑다 길다 있다 ...</td>\n",
       "      <td>돌리다 하다 줄어들다 하다 가다 보다 보이다 않다 걷다 오르다 끄다 보다 자다 안다...</td>\n",
       "      <td>9</td>\n",
       "      <td>2</td>\n",
       "      <td>11</td>\n",
       "    </tr>\n",
       "    <tr>\n",
       "      <th>36143</th>\n",
       "      <td>황장산</td>\n",
       "      <td>[안녕요인내의 등산 망각의 하산을   쭈야~   은 지난주 요에 다녀온 산림청 선정...</td>\n",
       "      <td>안녕요인내의 등산 망각의 하산을 쭈야 은 지난주 요에 다녀온 산림청 선정 이며백두대...</td>\n",
       "      <td>있음 작은 없음 있음 이런 신기할 같아요 가까 없어 그러니 편하겠죠 이런 있네요 작...</td>\n",
       "      <td>다녀온 다녀온 해볼까 산치 하지 않았음 와 했을 는 는 달길 할 올라가는 한 찾아 ...</td>\n",
       "      <td>안녕 인내 등산 망각 하산 쭈 은 지난주 요 산림청 선정 며 백두대간 인증 지인 황...</td>\n",
       "      <td>플</td>\n",
       "      <td>있다 작다 없다 있다 이렇다 신기하다 같다 가깝다 없다 그렇다 편하다 이렇다 있다 ...</td>\n",
       "      <td>다녀오다 다녀오다 해보다 사다 하다 않다 오다 하다 늘다 늘다 달다 하다 올라가다 ...</td>\n",
       "      <td>34</td>\n",
       "      <td>-2</td>\n",
       "      <td>32</td>\n",
       "    </tr>\n",
       "    <tr>\n",
       "      <th>36169</th>\n",
       "      <td>황장산</td>\n",
       "      <td>[백두대간(白頭大幹) 17구간 덕항산, 삼수령(피재)에서 댓재까지는 상거리 24㎞로...</td>\n",
       "      <td>백두대간 구간 덕항산 삼수령피재에서 댓재까지는 상거리 로 하루에 종주를 마치기 어렵...</td>\n",
       "      <td>어렵고 좋아 넓고 있기 힘든 없어 굉장히 힘든 힘든 많아요 있으며 있고 있니다 평평...</td>\n",
       "      <td>마치기 두고 걸릴 내미 큰 할 지 가 들고 타므로 큰 할 하려 따라 내려가 따라 내...</td>\n",
       "      <td>백두대간 구간 덕항산 수령 피재 재 상 거리 로 하루 종주 접근 탈출 염두 박 날씨...</td>\n",
       "      <td>NaN</td>\n",
       "      <td>어렵다 좋다 넓다 있다 힘드다 없다 굉장하다 힘드다 힘드다 많다 있다 있다 있다 평...</td>\n",
       "      <td>마치다 두다 걸리다 내미다 크다 하다 지다 가다 들다 타다 크다 하다 하다 따르다 ...</td>\n",
       "      <td>8</td>\n",
       "      <td>5</td>\n",
       "      <td>13</td>\n",
       "    </tr>\n",
       "    <tr>\n",
       "      <th>36264</th>\n",
       "      <td>희양산</td>\n",
       "      <td>[백두대간 24차 희양산 구간.코로방역 4단계로 여건이 여의치 않지만 차량 1대 당...</td>\n",
       "      <td>백두대간 차 희양산 구간코로방역 단계로 여건이 여의치 않지만 차량 대 당 명씩 탑승...</td>\n",
       "      <td>작해 원하네요 작아서 아닌데 많습니다 아닌데 착했습니다 어렵지 착했습니다 좋습니다 ...</td>\n",
       "      <td>않지만 대 해서 다녀옵니 지리안말 해서 납니다 찌는 흘러내립니다 오르니 반겨주는 돌...</td>\n",
       "      <td>백두대간 차 희양산 구간 코로 방역 단계 여건 의치 차량 당 명 탑승 다산 행 들머...</td>\n",
       "      <td>하</td>\n",
       "      <td>작다 원하다 작다 아니다 많다 아니다 착하다 어렵다 착하다 좋다 있다 좋다 좋다 좋...</td>\n",
       "      <td>않다 대다 하다 다녀오다 지리다 하다 나다 찌다 흘러내리다 오르다 반기다 돌리다 올...</td>\n",
       "      <td>6</td>\n",
       "      <td>0</td>\n",
       "      <td>6</td>\n",
       "    </tr>\n",
       "    <tr>\n",
       "      <th>36405</th>\n",
       "      <td>희양산</td>\n",
       "      <td>[ 좋은 하루 보내셨을까요?낙엽지는 가을을 지그새옷차림에 변화를 줄 때가 다가왔는데...</td>\n",
       "      <td>좋은 하루 보내셨을까요낙엽지는 가을을 지그새옷차림에 변화를 줄 때가 다가왔는데요기...</td>\n",
       "      <td>좋은 있을까요 미치는데대 건강한 중요하거든요 좋을 그럼 자세히 풍부한 좋은 정확히 ...</td>\n",
       "      <td>보내셨을까요 다가왔는데요 잘 챙기 생기기 됩니다 늦어지기 들이는게 거든요 알려 드리...</td>\n",
       "      <td>하루 낙엽 가을 옷차림 변화 줄 때 기온 오락가락 요즘 건강 관리 지금 몸 문제 건...</td>\n",
       "      <td>하 하</td>\n",
       "      <td>좋다 있다 미치다 건강하다 중요하다 좋다 그렇다 자세하다 풍부하다 좋다 정확하다 없...</td>\n",
       "      <td>보내다 다가오다 자다 챙기다 생기다 되다 늦어지다 들이다 거든요 알다 드리다 하다 ...</td>\n",
       "      <td>38</td>\n",
       "      <td>0</td>\n",
       "      <td>38</td>\n",
       "    </tr>\n",
       "  </tbody>\n",
       "</table>\n",
       "<p>1604 rows × 12 columns</p>\n",
       "</div>"
      ],
      "text/plain": [
       "      label                                             review  \\\n",
       "1       가리산  [ 홍천 가리산 레포츠파크 : 강원 홍천군 두촌 가리산길 426이용요금 : - 어드...   \n",
       "10      가리산  [홍천 가리산 등산코스탕후루처럼 반짝, 설산 풍경!ⓦ 산타는 초딩 여이등산: 202...   \n",
       "30      가리산  [웬만해서는 주말에는 사람들이 몰리는 곳엔 가지 않는다.요즘같이 단풍철에는 더욱더 ...   \n",
       "61      가리산  [안녕요? 홍대리.  이색스포츠 즐기고잊지 못할 추억까지 남길 수  곳!!가리산레포...   \n",
       "62      가리산  [높이 1051m의 홍천 가리산은 자연휴양림 답게 산책 코스가 잘  있고, 정상까지...   \n",
       "...     ...                                                ...   \n",
       "36070   황장산  [이번 산행은 락산 한바퀴 돌려고 했는데 미세먼지가 심해 하늘 땅 뿌옇게 보. 예보...   \n",
       "36143   황장산  [안녕요인내의 등산 망각의 하산을   쭈야~   은 지난주 요에 다녀온 산림청 선정...   \n",
       "36169   황장산  [백두대간(白頭大幹) 17구간 덕항산, 삼수령(피재)에서 댓재까지는 상거리 24㎞로...   \n",
       "36264   희양산  [백두대간 24차 희양산 구간.코로방역 4단계로 여건이 여의치 않지만 차량 1대 당...   \n",
       "36405   희양산  [ 좋은 하루 보내셨을까요?낙엽지는 가을을 지그새옷차림에 변화를 줄 때가 다가왔는데...   \n",
       "\n",
       "                                                 review2  \\\n",
       "1       홍천 가리산 레포츠파크 강원 홍천군 두촌 가리산길 이용요금 어드벤처 원 서바이벌 ...   \n",
       "10     홍천 가리산 등산코스탕후루처럼 반짝 설산 풍경 산타는 초딩 여이등산 추 에 겨울산에...   \n",
       "30     웬만해서는 주말에는 사람들이 몰리는 곳엔 가지 않는다요즘같이 단풍철에는 더욱더 그렇...   \n",
       "61     안녕요 홍대리 이색스포츠 즐기고잊지 못할 추억까지 남길 수 곳가리산레포츠파크에홍대리...   \n",
       "62     높이 의 홍천 가리산은 자연휴양림 답게 산책 코스가 잘 있고 정상까지 능선으로 편 ...   \n",
       "...                                                  ...   \n",
       "36070  이번 산행은 락산 한바퀴 돌려고 했는데 미세먼지가 심해 하늘 땅 뿌옇게 보 예보에서...   \n",
       "36143  안녕요인내의 등산 망각의 하산을 쭈야 은 지난주 요에 다녀온 산림청 선정 이며백두대...   \n",
       "36169  백두대간 구간 덕항산 삼수령피재에서 댓재까지는 상거리 로 하루에 종주를 마치기 어렵...   \n",
       "36264  백두대간 차 희양산 구간코로방역 단계로 여건이 여의치 않지만 차량 대 당 명씩 탑승...   \n",
       "36405   좋은 하루 보내셨을까요낙엽지는 가을을 지그새옷차림에 변화를 줄 때가 다가왔는데요기...   \n",
       "\n",
       "                                                     adj  \\\n",
       "1      없어요 멀지 새로 당연히 흔한 흔한 솔직히 없을 같습니다 착할 있었어요 있어요 흰 ...   \n",
       "10     있으서 무사히 야하니 많은 있을까 좋아 좋아 하얀 힘들었기에 없죠 가볍게 없지만 있...   \n",
       "30     웬만해서는 그렇다 같아 짧은 있게 있지 있었는데 그랬다 말라 같았다 좋겠다 좋아요 ...   \n",
       "61     자세한 있답니다 아닙니다 반가운 멋지게 있기에 익숙한 있을 같은 있었어요 있었는데요...   \n",
       "62     있고 있으 아니기 있어요 좋은 짜릿함을 있어서 재미있었어요 아니니 헷갈리지 아니에요...   \n",
       "...                                                  ...   \n",
       "36070  뿌옇게 좋지 작은 뿌옇게 뿌연 있어요 있어요 멀지 있어 작은 가볍게 맑아졌어요 길게...   \n",
       "36143  있음 작은 없음 있음 이런 신기할 같아요 가까 없어 그러니 편하겠죠 이런 있네요 작...   \n",
       "36169  어렵고 좋아 넓고 있기 힘든 없어 굉장히 힘든 힘든 많아요 있으며 있고 있니다 평평...   \n",
       "36264  작해 원하네요 작아서 아닌데 많습니다 아닌데 착했습니다 어렵지 착했습니다 좋습니다 ...   \n",
       "36405  좋은 있을까요 미치는데대 건강한 중요하거든요 좋을 그럼 자세히 풍부한 좋은 정확히 ...   \n",
       "\n",
       "                                                    verb  \\\n",
       "1      이었죠 임는 그리 않은 않았고 할 다녀왔습니다 된 갔다가 세워져있던 되었어요 왔다고...   \n",
       "10     여이 할 다녀왔는데요 이어 타는 할게요 걸어 올라와서 는 걸어오 오는데 지야 돼요 ...   \n",
       "30     몰리는 않는다 늦어질 섰다 긴 다녀올 가고 오는 걸리는 드는 늦긴 했어 않을까 버린...   \n",
       "61     즐기고 잊지 할 남길 다녀와 봤는데요 해보죠 되기 가 났다 가르는 즐겨 즐겨 봤는데...   \n",
       "62     잘 오를 걷는 느낄 오르기 하지요 앞두고 타는듯이 느낄 봐주세요 가 쉬는 빼고 합수...   \n",
       "...                                                  ...   \n",
       "36070  돌려고 했는데 줄어든다 했는데 가다 보니 보이네요 않을테니 걷는 올라 까 보니 잘 ...   \n",
       "36143  다녀온 다녀온 해볼까 산치 하지 않았음 와 했을 는 는 달길 할 올라가는 한 찾아 ...   \n",
       "36169  마치기 두고 걸릴 내미 큰 할 지 가 들고 타므로 큰 할 하려 따라 내려가 따라 내...   \n",
       "36264  않지만 대 해서 다녀옵니 지리안말 해서 납니다 찌는 흘러내립니다 오르니 반겨주는 돌...   \n",
       "36405  보내셨을까요 다가왔는데요 잘 챙기 생기기 됩니다 늦어지기 들이는게 거든요 알려 드리...   \n",
       "\n",
       "                                                    noun exclamation  \\\n",
       "1      홍천 가리산 레 포츠 파크 강원 홍천군 촌 가리산 길 이용 요금 어드벤처 원 서바이...           하   \n",
       "10     홍천 가리산 등산 코스 탕후루 반짝 설산 풍경 산타 초딩 등산 추 겨울 산 대한 두...         NaN   \n",
       "30     주말 사람 곳 가지 요즘 단풍 철 더욱더 무 것 임 불구 느긋 가리산 코스 간 정이...         NaN   \n",
       "61     안녕 홍대 리 이색 스포츠 추억 수 곳 가리산 레 포츠 파크 홍대 리가 내용 확인 ...         흠 흠   \n",
       "62     높이 의 홍천 가리산 자연휴양림 답 산책 코스 정상 능선 편 수 단조 주변 경치 보...     야 하 하 야   \n",
       "...                                                  ...         ...   \n",
       "36070  이번 산행 락산 바퀴 미세먼지 심해 하늘 땅 보 예보 오전 미세먼지 질 기마 안 망...         아 하   \n",
       "36143  안녕 인내 등산 망각 하산 쭈 은 지난주 요 산림청 선정 며 백두대간 인증 지인 황...           플   \n",
       "36169  백두대간 구간 덕항산 수령 피재 재 상 거리 로 하루 종주 접근 탈출 염두 박 날씨...         NaN   \n",
       "36264  백두대간 차 희양산 구간 코로 방역 단계 여건 의치 차량 당 명 탑승 다산 행 들머...           하   \n",
       "36405  하루 낙엽 가을 옷차림 변화 줄 때 기온 오락가락 요즘 건강 관리 지금 몸 문제 건...         하 하   \n",
       "\n",
       "                                                adj_stem  \\\n",
       "1      없다 멀다 새롭다 당연하다 흔하다 흔하다 솔직하다 없다 같다 착하다 있다 있다 희다...   \n",
       "10     있다 무사하다 야하다 많다 있다 좋다 좋다 하얗다 힘들다 없다 가볍다 없다 있다 하...   \n",
       "30     웬만하다 그렇다 같다 짧다 있다 있다 있다 그렇다 말르다 같다 좋다 좋다 그렇다 짧...   \n",
       "61     자세하다 있다 아니다 반갑다 멋지다 있다 익숙하다 있다 같다 있다 있다 재미있다 아...   \n",
       "62     있다 있다 아니다 있다 좋다 짜릿하다 있다 재미있다 아니다 헷갈리다 아니다 쉽다 착...   \n",
       "...                                                  ...   \n",
       "36070  뿌옇다 좋다 작다 뿌옇다 뿌옇다 있다 있다 멀다 있다 작다 가볍다 맑다 길다 있다 ...   \n",
       "36143  있다 작다 없다 있다 이렇다 신기하다 같다 가깝다 없다 그렇다 편하다 이렇다 있다 ...   \n",
       "36169  어렵다 좋다 넓다 있다 힘드다 없다 굉장하다 힘드다 힘드다 많다 있다 있다 있다 평...   \n",
       "36264  작다 원하다 작다 아니다 많다 아니다 착하다 어렵다 착하다 좋다 있다 좋다 좋다 좋...   \n",
       "36405  좋다 있다 미치다 건강하다 중요하다 좋다 그렇다 자세하다 풍부하다 좋다 정확하다 없...   \n",
       "\n",
       "                                               verb_stem  adj_score  \\\n",
       "1      이다 이다 그리다 않다 않다 하다 다녀오다 되다 가다 세워지다 되어다 오다 보다 오...         28   \n",
       "10     이다 하다 다녀오다 이다 타다 하다 걸다 올라오다 늘다 걸어오다 오다 지다 돼다 하...         25   \n",
       "30     몰리다 않다 늦어지다 서다 기다 다녀오다 가다 오다 걸리다 들다 늦다 하다 않다 버...         10   \n",
       "61     즐기다 잊다 하다 남다 다녀오다 보다 해보다 되다 가다 나다 가르다 즐기다 즐기다 ...         12   \n",
       "62     자다 오르다 걷다 느끼다 오르다 하다 앞두다 타다 느끼다 보다 가다 쉬다 빼다 하다...         50   \n",
       "...                                                  ...        ...   \n",
       "36070  돌리다 하다 줄어들다 하다 가다 보다 보이다 않다 걷다 오르다 끄다 보다 자다 안다...          9   \n",
       "36143  다녀오다 다녀오다 해보다 사다 하다 않다 오다 하다 늘다 늘다 달다 하다 올라가다 ...         34   \n",
       "36169  마치다 두다 걸리다 내미다 크다 하다 지다 가다 들다 타다 크다 하다 하다 따르다 ...          8   \n",
       "36264  않다 대다 하다 다녀오다 지리다 하다 나다 찌다 흘러내리다 오르다 반기다 돌리다 올...          6   \n",
       "36405  보내다 다가오다 자다 챙기다 생기다 되다 늦어지다 들이다 거든요 알다 드리다 하다 ...         38   \n",
       "\n",
       "       verb_score  score  \n",
       "1              -2     26  \n",
       "10              0     25  \n",
       "30             -2      8  \n",
       "61              1     13  \n",
       "62             -2     48  \n",
       "...           ...    ...  \n",
       "36070           2     11  \n",
       "36143          -2     32  \n",
       "36169           5     13  \n",
       "36264           0      6  \n",
       "36405           0     38  \n",
       "\n",
       "[1604 rows x 12 columns]"
      ]
     },
     "execution_count": 15,
     "metadata": {},
     "output_type": "execute_result"
    }
   ],
   "source": [
    "df = pd.read_csv('review_mountain_stem_score.csv', encoding='utf-8')\n",
    "df[df['review'].str.contains('좋아요')]"
   ]
  },
  {
   "cell_type": "code",
   "execution_count": null,
   "id": "e9f7c8c6",
   "metadata": {},
   "outputs": [],
   "source": [
    "df_2t['adj_score'] = df_2t['adj_stem'].progress_map(calculate_sentiment_score)\n",
    "df_2t['verb_score'] = df_2t['verb_stem'].progrbess_map(calculate_sentiment_score)\n",
    "df_2t['exclamation_score'] = df_2t['exclamation_stem'].progress_map(calculate_sentiment_score)"
   ]
  },
  {
   "cell_type": "code",
   "execution_count": null,
   "id": "303a8add",
   "metadata": {},
   "outputs": [],
   "source": [
    "df_2t['score'] = df_2t['adj_score'] + df_2t['verb_score'] + df_2t['exclamation_score']"
   ]
  },
  {
   "cell_type": "code",
   "execution_count": null,
   "id": "c8a93734",
   "metadata": {},
   "outputs": [],
   "source": []
  },
  {
   "cell_type": "code",
   "execution_count": null,
   "id": "5bf5db3c",
   "metadata": {},
   "outputs": [],
   "source": [
    "df_3t['adj_score'] = df_3t['adj_stem'].progress_map(calculate_sentiment_score)\n",
    "df_3t['verb_score'] = df_3t['verb_stem'].progress_map(calculate_sentiment_score)\n",
    "df_3t['exclamation_score'] = df_3t['exclamation_stem'].progress_map(calculate_sentiment_score)"
   ]
  },
  {
   "cell_type": "code",
   "execution_count": null,
   "id": "33226c3e",
   "metadata": {},
   "outputs": [],
   "source": [
    "df_3t['score'] = df_3t['adj_score'] + df_3t['verb_score'] + df_3t['exclamation_score']"
   ]
  }
 ],
 "metadata": {
  "kernelspec": {
   "display_name": "Python 3",
   "language": "python",
   "name": "python3"
  },
  "language_info": {
   "codemirror_mode": {
    "name": "ipython",
    "version": 3
   },
   "file_extension": ".py",
   "mimetype": "text/x-python",
   "name": "python",
   "nbconvert_exporter": "python",
   "pygments_lexer": "ipython3",
   "version": "3.11.5"
  },
  "toc": {
   "base_numbering": 1,
   "nav_menu": {},
   "number_sections": true,
   "sideBar": true,
   "skip_h1_title": false,
   "title_cell": "Table of Contents",
   "title_sidebar": "Contents",
   "toc_cell": false,
   "toc_position": {},
   "toc_section_display": true,
   "toc_window_display": false
  },
  "varInspector": {
   "cols": {
    "lenName": 16,
    "lenType": 16,
    "lenVar": 40
   },
   "kernels_config": {
    "python": {
     "delete_cmd_postfix": "",
     "delete_cmd_prefix": "del ",
     "library": "var_list.py",
     "varRefreshCmd": "print(var_dic_list())"
    },
    "r": {
     "delete_cmd_postfix": ") ",
     "delete_cmd_prefix": "rm(",
     "library": "var_list.r",
     "varRefreshCmd": "cat(var_dic_list()) "
    }
   },
   "types_to_exclude": [
    "module",
    "function",
    "builtin_function_or_method",
    "instance",
    "_Feature"
   ],
   "window_display": false
  }
 },
 "nbformat": 4,
 "nbformat_minor": 5
}
